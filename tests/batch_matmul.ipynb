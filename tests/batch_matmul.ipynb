{
 "cells": [
  {
   "cell_type": "code",
   "execution_count": 7,
   "metadata": {},
   "outputs": [],
   "source": [
    "from asynch import *\n",
    "import tensorflow as tf\n",
    "from utils import create_session_config\n",
    "from models.utils import corr\n",
    "import numpy as np\n",
    "import tensorflow_probability as tp\n",
    "FLAGS.per_process_gpu_memory_fraction=0.0005"
   ]
  },
  {
   "cell_type": "code",
   "execution_count": 24,
   "metadata": {},
   "outputs": [
    {
     "data": {
      "text/plain": [
       "array([[1., 2.],\n",
       "       [1., 2.],\n",
       "       [1., 2.]], dtype=float32)"
      ]
     },
     "execution_count": 24,
     "metadata": {},
     "output_type": "execute_result"
    }
   ],
   "source": [
    "def covariance_parametrization(x_data, y_data):\n",
    "#     tf.reset_default_graph()\n",
    "    x=tf.placeholder(shape=(None,2),dtype=tf.float32)\n",
    "    y=tf.placeholder(shape=(None,2),dtype=tf.float32)\n",
    "    \n",
    "    z=tf.tile(x, [tf.shape(y)[0], 1])\n",
    "    \n",
    "    with tf.Session(config=create_session_config()) as sess:\n",
    "        sess.run(tf.global_variables_initializer())\n",
    "        return sess.run(z, feed_dict={x:x_data,y:y_data})\n",
    "        \n",
    "\n",
    "res = invoke_in_process_pool(1, Callable(covariance_parametrization, x_data=[[1,2]], \n",
    "                                        y_data=[[1,1],[4,2],[0,5]]))[0]\n",
    "\n",
    "res"
   ]
  },
  {
   "cell_type": "code",
   "execution_count": null,
   "metadata": {},
   "outputs": [],
   "source": [
    "np.matmul(np.array([[5,6,7]]).T,np.array([[1,9, 1]]))"
   ]
  },
  {
   "cell_type": "code",
   "execution_count": 43,
   "metadata": {},
   "outputs": [
    {
     "data": {
      "text/plain": [
       "array([[0.1, 0. , 0. ],\n",
       "       [0.5, 0.6, 0. ]], dtype=float32)"
      ]
     },
     "execution_count": 43,
     "metadata": {},
     "output_type": "execute_result"
    }
   ],
   "source": [
    "def covariance_parametrization(x_data):\n",
    "    x=tf.placeholder(shape=(None,3),dtype=tf.float32)\n",
    "    \n",
    "    corr=tf.matrix_band_part(x,-1,0)\n",
    "    \n",
    "    with tf.Session(config=create_session_config()) as sess:\n",
    "        return sess.run(corr, feed_dict={x:x_data})\n",
    "        \n",
    "\n",
    "res = invoke_in_process_pool(1, Callable(covariance_parametrization, x_data=[[0.1,0.2,0.3],[0.5,0.6,0.7]]))[0]\n",
    "\n",
    "res"
   ]
  }
 ],
 "metadata": {
  "kernelspec": {
   "display_name": "Python 3",
   "language": "python",
   "name": "python3"
  },
  "language_info": {
   "codemirror_mode": {
    "name": "ipython",
    "version": 3
   },
   "file_extension": ".py",
   "mimetype": "text/x-python",
   "name": "python",
   "nbconvert_exporter": "python",
   "pygments_lexer": "ipython3",
   "version": "3.5.2"
  }
 },
 "nbformat": 4,
 "nbformat_minor": 2
}
