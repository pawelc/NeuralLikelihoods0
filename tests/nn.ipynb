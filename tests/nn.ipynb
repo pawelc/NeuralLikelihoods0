{
 "cells": [
  {
   "cell_type": "code",
   "execution_count": 6,
   "metadata": {},
   "outputs": [],
   "source": [
    "import tensorflow as tf\n",
    "from data.registry import inv_sin\n",
    "from tensorflow.estimator import DNNRegressor\n",
    "from models.utils import get_train_inputs\n",
    "from utils import create_session_config"
   ]
  },
  {
   "cell_type": "code",
   "execution_count": 3,
   "metadata": {},
   "outputs": [
    {
     "name": "stdout",
     "output_type": "stream",
     "text": [
      "generated and saved data: .npz\n"
     ]
    }
   ],
   "source": [
    "data_loader = inv_sin()"
   ]
  },
  {
   "cell_type": "code",
   "execution_count": 10,
   "metadata": {},
   "outputs": [
    {
     "name": "stdout",
     "output_type": "stream",
     "text": [
      "INFO:tensorflow:Using config: {'_eval_distribute': None, '_device_fn': None, '_train_distribute': None, '_tf_random_seed': 1000, '_task_type': 'worker', '_evaluation_master': '', '_num_worker_replicas': 1, '_keep_checkpoint_every_n_hours': 10000, '_num_ps_replicas': 0, '_model_dir': '/tmp', '_save_checkpoints_secs': 10, '_session_config': gpu_options {\n",
      "  per_process_gpu_memory_fraction: 0.035\n",
      "}\n",
      ", '_global_id_in_cluster': 0, '_save_summary_steps': 100, '_master': '', '_is_chief': True, '_cluster_spec': <tensorflow.python.training.server_lib.ClusterSpec object at 0x7f9f3bdb7128>, '_task_id': 0, '_log_step_count_steps': 1000, '_keep_checkpoint_max': 3, '_protocol': None, '_service': None, '_save_checkpoints_steps': None}\n",
      "INFO:tensorflow:Calling model_fn.\n",
      "INFO:tensorflow:Done calling model_fn.\n",
      "INFO:tensorflow:Create CheckpointSaverHook.\n",
      "INFO:tensorflow:Graph was finalized.\n",
      "INFO:tensorflow:Running local_init_op.\n",
      "INFO:tensorflow:Done running local_init_op.\n",
      "INFO:tensorflow:Saving checkpoints for 0 into /tmp/model.ckpt.\n",
      "INFO:tensorflow:loss = 96.00952, step = 0\n",
      "INFO:tensorflow:global_step/sec: 248.82\n",
      "INFO:tensorflow:loss = 40.360554, step = 1000 (4.020 sec)\n",
      "INFO:tensorflow:global_step/sec: 424.05\n",
      "INFO:tensorflow:loss = 30.889448, step = 2000 (2.358 sec)\n",
      "INFO:tensorflow:global_step/sec: 433.078\n",
      "INFO:tensorflow:loss = 24.710379, step = 3000 (2.311 sec)\n",
      "INFO:tensorflow:Saving checkpoints for 3309 into /tmp/model.ckpt.\n",
      "INFO:tensorflow:global_step/sec: 156.588\n",
      "INFO:tensorflow:loss = 23.360035, step = 4000 (6.386 sec)\n",
      "INFO:tensorflow:Saving checkpoints for 4550 into /tmp/model.ckpt.\n",
      "INFO:tensorflow:global_step/sec: 122.706\n",
      "INFO:tensorflow:loss = 24.487574, step = 5000 (8.150 sec)\n",
      "INFO:tensorflow:global_step/sec: 258.266\n",
      "INFO:tensorflow:loss = 35.32179, step = 6000 (3.872 sec)\n",
      "INFO:tensorflow:Saving checkpoints for 6659 into /tmp/model.ckpt.\n",
      "INFO:tensorflow:global_step/sec: 248.06\n",
      "INFO:tensorflow:loss = 29.868929, step = 7000 (4.030 sec)\n",
      "INFO:tensorflow:global_step/sec: 124.004\n",
      "INFO:tensorflow:loss = 33.95843, step = 8000 (8.068 sec)\n",
      "INFO:tensorflow:Saving checkpoints for 8052 into /tmp/model.ckpt.\n",
      "INFO:tensorflow:global_step/sec: 148.618\n",
      "INFO:tensorflow:loss = 24.201529, step = 9000 (6.727 sec)\n",
      "INFO:tensorflow:Saving checkpoints for 9956 into /tmp/model.ckpt.\n",
      "INFO:tensorflow:Saving checkpoints for 10000 into /tmp/model.ckpt.\n",
      "INFO:tensorflow:Loss for final step: 23.932951.\n"
     ]
    },
    {
     "data": {
      "text/plain": [
       "<tensorflow.python.estimator.canned.dnn.DNNRegressor at 0x7f9f3bdb7160>"
      ]
     },
     "execution_count": 10,
     "metadata": {},
     "output_type": "execute_result"
    }
   ],
   "source": [
    "train_input_fn = tf.estimator.inputs.numpy_input_fn(\n",
    "      x = {\"x\": data_loader.train_x},      # Input features\n",
    "      y = data_loader.train_y,          # true labels\n",
    "      batch_size=100,\n",
    "      num_epochs=None,                             # Supply unlimited epochs of data\n",
    "      shuffle=True)\n",
    "\n",
    "run_config = tf.estimator.RunConfig(model_dir='/tmp',\n",
    "                                            save_summary_steps=100,\n",
    "                                            save_checkpoints_secs=10,\n",
    "                                            log_step_count_steps=1000, keep_checkpoint_max=3,\n",
    "                                            session_config=create_session_config(),\n",
    "                                            tf_random_seed=1000, )\n",
    "\n",
    "feature_columns = [tf.feature_column.numeric_column('x', shape=(1))]\n",
    "estimator = DNNRegressor(hidden_units=[200, 100, 20],feature_columns=feature_columns, config=run_config)\n",
    "estimator.train(input_fn=train_input_fn, steps=10000)"
   ]
  }
 ],
 "metadata": {
  "kernelspec": {
   "display_name": "Python 3",
   "language": "python",
   "name": "python3"
  },
  "language_info": {
   "codemirror_mode": {
    "name": "ipython",
    "version": 3
   },
   "file_extension": ".py",
   "mimetype": "text/x-python",
   "name": "python",
   "nbconvert_exporter": "python",
   "pygments_lexer": "ipython3",
   "version": "3.5.2"
  }
 },
 "nbformat": 4,
 "nbformat_minor": 2
}
