{
 "cells": [
  {
   "cell_type": "code",
   "execution_count": 1,
   "metadata": {},
   "outputs": [],
   "source": [
    "import tensorflow as tf\n",
    "import numpy as np"
   ]
  },
  {
   "cell_type": "code",
   "execution_count": 2,
   "metadata": {},
   "outputs": [],
   "source": [
    "with tf.variable_scope(\"tmp\",reuse=tf.AUTO_REUSE):\n",
    "    y = tf.placeholder(shape=[None,2], dtype=tf.float32)\n",
    "    var = tf.get_variable(\"y_min_values_var\", trainable=False, dtype=tf.float32,\n",
    "                                            shape=(1, y.shape[-1].value), initializer=tf.constant_initializer(np.nan))\n",
    "    y_max_values = tf.reduce_max(y, axis=0, keepdims=True)\n",
    "\n",
    "    var = tf.cond(tf.reduce_all(tf.is_nan(var)), \\\n",
    "                  lambda: tf.assign(var, y_max_values, name=\"y_max\"), \\\n",
    "                  lambda: tf.assign(var, tf.reduce_max(tf.concat([y_max_values, var], axis=0),axis=0, keepdims=True)))"
   ]
  },
  {
   "cell_type": "code",
   "execution_count": 3,
   "metadata": {},
   "outputs": [],
   "source": [
    "sess = tf.InteractiveSession()\n",
    "sess.run(tf.global_variables_initializer())"
   ]
  },
  {
   "cell_type": "code",
   "execution_count": 13,
   "metadata": {},
   "outputs": [
    {
     "data": {
      "text/plain": [
       "array([[12.,  7.]], dtype=float32)"
      ]
     },
     "execution_count": 13,
     "metadata": {},
     "output_type": "execute_result"
    }
   ],
   "source": [
    "sess.run(var, feed_dict={y:[[1,2],[12,4]]})"
   ]
  },
  {
   "cell_type": "code",
   "execution_count": null,
   "metadata": {},
   "outputs": [],
   "source": [
    "sess.close()"
   ]
  }
 ],
 "metadata": {
  "kernelspec": {
   "display_name": "Python 3",
   "language": "python",
   "name": "python3"
  },
  "language_info": {
   "codemirror_mode": {
    "name": "ipython",
    "version": 3
   },
   "file_extension": ".py",
   "mimetype": "text/x-python",
   "name": "python",
   "nbconvert_exporter": "python",
   "pygments_lexer": "ipython3",
   "version": "3.5.2"
  }
 },
 "nbformat": 4,
 "nbformat_minor": 2
}
