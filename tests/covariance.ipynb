{
 "cells": [
  {
   "cell_type": "code",
   "execution_count": 1,
   "metadata": {},
   "outputs": [],
   "source": [
    "import tensorflow as tf\n",
    "from utils import create_session_config\n",
    "import tensorflow_probability as tp\n",
    "import numpy as np\n",
    "from models.utils import covariance,correlation_matrix"
   ]
  },
  {
   "cell_type": "code",
   "execution_count": 3,
   "metadata": {},
   "outputs": [
    {
     "name": "stdout",
     "output_type": "stream",
     "text": [
      "true_cov: [[ 1. -4.]\n",
      " [-4. 16.]]\n",
      "error: 22.337933\n",
      "prior cov:  [[[ 1.8894675  -0.4840941 ]\n",
      "  [-0.4840941   0.40970263]]]\n",
      "prior cor:  [[[ 1.        -0.5502065]\n",
      "  [-0.5502065  1.       ]]]\n",
      "true_error:  -inf\n",
      "error: 26.037037\n",
      "error: 7.3700867\n",
      "error: 3.3186688\n",
      "error: 3.4437957\n",
      "error: 2.4722965\n",
      "error: -1.5060239\n",
      "error: -1.6890128\n",
      "error: -1.7775111\n",
      "error: -1.6727431\n",
      "error: -1.7563491\n",
      "error: -1.8560578\n",
      "learnt cov:  [[[ 0.581436  -2.3256965]\n",
      "  [-2.3256965  9.302765 ]]]\n",
      "learnt cor:  [[[ 1.         -0.99999094]\n",
      "  [-0.999991    1.        ]]]\n",
      "true_error:  -inf\n"
     ]
    }
   ],
   "source": [
    "tf.reset_default_graph()\n",
    "cor_coef=-1\n",
    "corr = np.array([[1.0,cor_coef],[cor_coef,1.0]], dtype=np.float32)\n",
    "std_dev = np.array([[1.0,0.0],[0,4.0]], dtype=np.float32)\n",
    "true_cov = np.matmul(std_dev, np.matmul(corr,std_dev))\n",
    "print(\"true_cov: %s\"%true_cov)\n",
    "\n",
    "data_gen = tp.distributions.MultivariateNormalFullCovariance(loc=tf.constant([0.0] * 2),\n",
    "                                                              covariance_matrix=tf.constant(true_cov))\n",
    "sample_op = data_gen.sample([100])\n",
    "\n",
    "cov = covariance(None, 2, {})\n",
    "cor = correlation_matrix(cov)\n",
    "learnt_distr = tp.distributions.MultivariateNormalFullCovariance(loc=tf.constant([0.0] * 2),\n",
    "                                                              covariance_matrix=cov)\n",
    "ll = learnt_distr.log_prob(sample_op)\n",
    "adam = tf.train.AdamOptimizer(learning_rate=0.001)\n",
    "\n",
    "error = tf.negative(tf.reduce_mean(ll))\n",
    "true_error = tf.negative(tf.reduce_mean(data_gen.log_prob(sample_op)))\n",
    "train = adam.minimize(error)\n",
    "\n",
    "with tf.Session(config=create_session_config()) as session:\n",
    "    session.run(tf.global_variables_initializer())\n",
    "    print(\"error:\", session.run(error))\n",
    "    print(\"prior cov: \",session.run(cov))\n",
    "    print(\"prior cor: \",session.run(cor))\n",
    "    print(\"true_error: \",session.run(true_error))\n",
    "    for step in range(10000):  \n",
    "        session.run(train)\n",
    "        if step%1000 == 0:\n",
    "            print(\"error:\", session.run(error))\n",
    "    print(\"error:\", session.run(error))\n",
    "    print(\"learnt cov: \",session.run(cov))\n",
    "    print(\"learnt cor: \",session.run(cor))\n",
    "    print(\"true_error: \",session.run(true_error))"
   ]
  }
 ],
 "metadata": {
  "kernelspec": {
   "display_name": "Python 3",
   "language": "python",
   "name": "python3"
  },
  "language_info": {
   "codemirror_mode": {
    "name": "ipython",
    "version": 3
   },
   "file_extension": ".py",
   "mimetype": "text/x-python",
   "name": "python",
   "nbconvert_exporter": "python",
   "pygments_lexer": "ipython3",
   "version": "3.5.2"
  }
 },
 "nbformat": 4,
 "nbformat_minor": 2
}
