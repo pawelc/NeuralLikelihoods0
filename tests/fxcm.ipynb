{
 "cells": [
  {
   "cell_type": "code",
   "execution_count": 10,
   "metadata": {},
   "outputs": [
    {
     "name": "stdout",
     "output_type": "stream",
     "text": [
      "The autoreload extension is already loaded. To reload it, use:\n",
      "  %reload_ext autoreload\n",
      "loading /home/pawel/PycharmProjects/data/fxcm/EURUSD/2015/2.csv.gz\n",
      "loading /home/pawel/PycharmProjects/data/fxcm/EURUSD/2015/3.csv.gz\n",
      "loading /home/pawel/PycharmProjects/data/fxcm/EURUSD/2015/4.csv.gz\n",
      "loading /home/pawel/PycharmProjects/data/fxcm/EURUSD/2015/5.csv.gz\n",
      "loading /home/pawel/PycharmProjects/data/fxcm/GBPUSD/2015/2.csv.gz\n",
      "loading /home/pawel/PycharmProjects/data/fxcm/GBPUSD/2015/3.csv.gz\n",
      "loading /home/pawel/PycharmProjects/data/fxcm/GBPUSD/2015/4.csv.gz\n",
      "loading /home/pawel/PycharmProjects/data/fxcm/GBPUSD/2015/5.csv.gz\n",
      "loading /home/pawel/PycharmProjects/data/fxcm/USDJPY/2015/2.csv.gz\n",
      "loading /home/pawel/PycharmProjects/data/fxcm/USDJPY/2015/3.csv.gz\n",
      "loading /home/pawel/PycharmProjects/data/fxcm/USDJPY/2015/4.csv.gz\n",
      "loading /home/pawel/PycharmProjects/data/fxcm/USDJPY/2015/5.csv.gz\n",
      "loading /home/pawel/PycharmProjects/data/fxcm/USDCHF/2015/2.csv.gz\n",
      "loading /home/pawel/PycharmProjects/data/fxcm/USDCHF/2015/3.csv.gz\n",
      "loading /home/pawel/PycharmProjects/data/fxcm/USDCHF/2015/4.csv.gz\n",
      "loading /home/pawel/PycharmProjects/data/fxcm/USDCHF/2015/5.csv.gz\n",
      "loading /home/pawel/PycharmProjects/data/fxcm/USDCAD/2015/2.csv.gz\n",
      "loading /home/pawel/PycharmProjects/data/fxcm/USDCAD/2015/3.csv.gz\n",
      "loading /home/pawel/PycharmProjects/data/fxcm/USDCAD/2015/4.csv.gz\n",
      "loading /home/pawel/PycharmProjects/data/fxcm/USDCAD/2015/5.csv.gz\n",
      "loading /home/pawel/PycharmProjects/data/fxcm/NZDUSD/2015/2.csv.gz\n",
      "loading /home/pawel/PycharmProjects/data/fxcm/NZDUSD/2015/3.csv.gz\n",
      "loading /home/pawel/PycharmProjects/data/fxcm/NZDUSD/2015/4.csv.gz\n",
      "loading /home/pawel/PycharmProjects/data/fxcm/NZDUSD/2015/5.csv.gz\n",
      "loading /home/pawel/PycharmProjects/data/fxcm/NZDJPY/2015/2.csv.gz\n",
      "loading /home/pawel/PycharmProjects/data/fxcm/NZDJPY/2015/3.csv.gz\n",
      "loading /home/pawel/PycharmProjects/data/fxcm/NZDJPY/2015/4.csv.gz\n",
      "loading /home/pawel/PycharmProjects/data/fxcm/NZDJPY/2015/5.csv.gz\n",
      "loading /home/pawel/PycharmProjects/data/fxcm/GBPJPY/2015/2.csv.gz\n",
      "loading /home/pawel/PycharmProjects/data/fxcm/GBPJPY/2015/3.csv.gz\n",
      "loading /home/pawel/PycharmProjects/data/fxcm/GBPJPY/2015/4.csv.gz\n",
      "loading /home/pawel/PycharmProjects/data/fxcm/GBPJPY/2015/5.csv.gz\n",
      "generated and saved data: Fxcm_symbols_EURUSD_GBPUSD_USDJPY_USDCHF_USDCAD_NZDUSD_NZDJPY_GBPJPY_start_2015-01-05_end_2015-01-30_ar_terms_4_predicted_idx_0_1.npz\n"
     ]
    }
   ],
   "source": [
    "%load_ext autoreload\n",
    "%autoreload 2\n",
    "import numpy as np\n",
    "\n",
    "from data.registry import fx_eurgbp_predicted\n",
    "\n",
    "\n",
    "dl = fx_eurgbp_predicted()   "
   ]
  },
  {
   "cell_type": "code",
   "execution_count": 14,
   "metadata": {},
   "outputs": [
    {
     "data": {
      "text/plain": [
       "(5755, 33)"
      ]
     },
     "execution_count": 14,
     "metadata": {},
     "output_type": "execute_result"
    }
   ],
   "source": [
    "dl.test_x.shape"
   ]
  }
 ],
 "metadata": {
  "kernelspec": {
   "display_name": "Python 3",
   "language": "python",
   "name": "python3"
  },
  "language_info": {
   "codemirror_mode": {
    "name": "ipython",
    "version": 3
   },
   "file_extension": ".py",
   "mimetype": "text/x-python",
   "name": "python",
   "nbconvert_exporter": "python",
   "pygments_lexer": "ipython3",
   "version": "3.5.2"
  }
 },
 "nbformat": 4,
 "nbformat_minor": 2
}
