{
 "cells": [
  {
   "cell_type": "code",
   "execution_count": 1,
   "metadata": {},
   "outputs": [
    {
     "name": "stderr",
     "output_type": "stream",
     "text": [
      "/home/pawel/tensorflow/lib/python3.5/importlib/_bootstrap.py:222: RuntimeWarning: numpy.dtype size changed, may indicate binary incompatibility. Expected 96, got 88\n",
      "  return f(*args, **kwds)\n",
      "/home/pawel/tensorflow/lib/python3.5/importlib/_bootstrap.py:222: RuntimeWarning: numpy.dtype size changed, may indicate binary incompatibility. Expected 96, got 88\n",
      "  return f(*args, **kwds)\n",
      "/home/pawel/tensorflow/lib/python3.5/importlib/_bootstrap.py:222: RuntimeWarning: numpy.dtype size changed, may indicate binary incompatibility. Expected 96, got 88\n",
      "  return f(*args, **kwds)\n",
      "/home/pawel/tensorflow/lib/python3.5/importlib/_bootstrap.py:222: RuntimeWarning: numpy.dtype size changed, may indicate binary incompatibility. Expected 96, got 88\n",
      "  return f(*args, **kwds)\n",
      "/home/pawel/tensorflow/lib/python3.5/importlib/_bootstrap.py:222: RuntimeWarning: numpy.dtype size changed, may indicate binary incompatibility. Expected 96, got 88\n",
      "  return f(*args, **kwds)\n",
      "/home/pawel/tensorflow/lib/python3.5/importlib/_bootstrap.py:222: RuntimeWarning: numpy.dtype size changed, may indicate binary incompatibility. Expected 96, got 88\n",
      "  return f(*args, **kwds)\n"
     ]
    }
   ],
   "source": [
    "from asynch import *\n",
    "import tensorflow as tf\n",
    "from utils import create_session_config\n",
    "from models.utils import corr\n",
    "import numpy as np\n",
    "import tensorflow_probability as tp\n",
    "FLAGS.per_process_gpu_memory_fraction=0.01\n",
    "from data.registry import etf2d\n",
    "from models.nn_pdf_common import transform_x, create_cdf_layer_partial_monotonic_MLP, create_pdf_layer_mv,create_monotone_dense_layer\n",
    "from models.utils import extract_xy, metric_loglikelihood, train_op, constrain_cdf, print_tensor\n",
    "from mpl_toolkits.mplot3d import Axes3D\n",
    "import matplotlib.pyplot as plt\n",
    "from matplotlib import cm\n",
    "from matplotlib.ticker import LinearLocator, FormatStrFormatter\n",
    "%matplotlib inline"
   ]
  },
  {
   "cell_type": "code",
   "execution_count": 2,
   "metadata": {},
   "outputs": [
    {
     "data": {
      "text/plain": [
       "{'bias:0': array([1.1592973], dtype=float32)}"
      ]
     },
     "execution_count": 2,
     "metadata": {},
     "output_type": "execute_result"
    },
    {
     "name": "stdout",
     "output_type": "stream",
     "text": [
      "gradient: array([[ 1.8230022e-01],\n",
      "       [-7.1525557e-07]], dtype=float32)\n"
     ]
    }
   ],
   "source": [
    "def create_positive_weights(shape, positive_transform):\n",
    "    w=tf.get_variable(name=\"weights-raw\", shape=shape, dtype=tf.float32)\n",
    "\n",
    "    if positive_transform == \"exp\":\n",
    "        w_positive = tf.exp(w, name='weights-positive')\n",
    "    elif positive_transform == \"square\":\n",
    "        w_positive = tf.square(w, name='weights-positive')\n",
    "    elif positive_transform == \"softplus\":\n",
    "        w_positive = tf.nn.softplus(w, name='weights-positive')\n",
    "    else:\n",
    "        raise ValueError(\"wrong positive_transform: %s\"%positive_transform)\n",
    "\n",
    "    return w_positive \n",
    "\n",
    "def create_bias(units):\n",
    "    with tf.name_scope('biases'):\n",
    "        b=tf.get_variable(shape=(units,), dtype=tf.float32, name=\"bias\")\n",
    "    return b\n",
    "\n",
    "def create_monotone_dense_layer(input, units, activation, positive_transform):\n",
    "    w = create_positive_weights(shape=[input.shape[-1].value, units], positive_transform=positive_transform)\n",
    "#     w = tf.constant(np.full([input.shape[-1].value, units], 1.0), dtype=tf.float32)\n",
    "    b = create_bias(units)\n",
    "    res = tf.matmul(input, w)+ b\n",
    "#     \n",
    "    return res if activation is None else activation(res)\n",
    "\n",
    "def run(data): \n",
    "    d=tf.placeholder(shape=(None,2),dtype=tf.float32)\n",
    "    x=tf.slice(d,[0,0],[-1,1])\n",
    "    y=tf.slice(d,[0,1],[-1,1])\n",
    "    \n",
    "    \n",
    "    l = tf.concat([x,y],axis=1)\n",
    "    \n",
    "    \n",
    "#     l=tf.concat([x,y], axis=1)\n",
    "#     l = tf.layers.dense(l, 10, activation=tf.nn.tanh)\n",
    "#     l = tf.layers.dense(l, 10, activation=tf.nn.tanh)\n",
    "#     l = tf.layers.dense(l, 1)\n",
    "#     for i, size in enumerate([10]):\n",
    "#         with tf.variable_scope(\"l%d\" % (i + 1)):\n",
    "#             l=create_monotone_dense_layer(l, size, activation=tf.nn.tanh, positive_transform=\"square\")\n",
    "    \n",
    "    l=create_monotone_dense_layer(l, 1, activation=tf.nn.tanh, positive_transform=\"square\")\n",
    "    \n",
    "    tvars = tf.trainable_variables()\n",
    "    \n",
    "\n",
    "#     l=x+y+x*y*4\n",
    "#     l=tf.reduce_sum(l, axis=1)\n",
    "    \n",
    "    g = tf.gradients(l, x)[0]\n",
    "    g=tf.gradients(g, y)[0]\n",
    "    \n",
    "    with tf.Session(config=create_session_config()) as sess:\n",
    "        sess.run(tf.global_variables_initializer())\n",
    "        return sess.run([g,tvars], feed_dict={d:data}) , [var.name for var in tvars] \n",
    "\n",
    "(g,var_vals), names = invoke_in_process_pool(1, Callable(run, [[-1,-2],[3,4]]))[0]\n",
    "\n",
    "dict(zip(names, var_vals))\n",
    "print(\"gradient: %r\" % g)"
   ]
  },
  {
   "cell_type": "code",
   "execution_count": 50,
   "metadata": {},
   "outputs": [
    {
     "data": {
      "text/plain": [
       "-0.019634494363042477"
      ]
     },
     "execution_count": 50,
     "metadata": {},
     "output_type": "execute_result"
    }
   ],
   "source": [
    "x=1\n",
    "y=2\n",
    "-2*np.tanh(x+y)*(1-np.tanh(x+y)**2)"
   ]
  }
 ],
 "metadata": {
  "kernelspec": {
   "display_name": "Python 3",
   "language": "python",
   "name": "python3"
  },
  "language_info": {
   "codemirror_mode": {
    "name": "ipython",
    "version": 3
   },
   "file_extension": ".py",
   "mimetype": "text/x-python",
   "name": "python",
   "nbconvert_exporter": "python",
   "pygments_lexer": "ipython3",
   "version": "3.5.2"
  }
 },
 "nbformat": 4,
 "nbformat_minor": 2
}
