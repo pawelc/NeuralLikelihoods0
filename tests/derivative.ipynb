{
 "cells": [
  {
   "cell_type": "code",
   "execution_count": 1,
   "metadata": {},
   "outputs": [],
   "source": [
    "%matplotlib ipympl\n",
    "from matplotlib import pyplot as plt\n",
    "import tensorflow as tf\n",
    "import numpy as np\n",
    "\n",
    "from mpl_toolkits.mplot3d import Axes3D"
   ]
  },
  {
   "cell_type": "code",
   "execution_count": 4,
   "metadata": {},
   "outputs": [
    {
     "data": {
      "application/vnd.jupyter.widget-view+json": {
       "model_id": "6ac6f6fb7e6d4fa49c8228d0bbc1ff7b",
       "version_major": 2,
       "version_minor": 0
      },
      "text/plain": [
       "FigureCanvasNbAgg()"
      ]
     },
     "metadata": {},
     "output_type": "display_data"
    },
    {
     "data": {
      "application/vnd.jupyter.widget-view+json": {
       "model_id": "0f9ff19ce4c34dd3880f6179eda9cb55",
       "version_major": 2,
       "version_minor": 0
      },
      "text/plain": [
       "FigureCanvasNbAgg()"
      ]
     },
     "metadata": {},
     "output_type": "display_data"
    },
    {
     "data": {
      "application/vnd.jupyter.widget-view+json": {
       "model_id": "8604475d165049189031466a1f8f241a",
       "version_major": 2,
       "version_minor": 0
      },
      "text/plain": [
       "FigureCanvasNbAgg()"
      ]
     },
     "metadata": {},
     "output_type": "display_data"
    },
    {
     "data": {
      "application/vnd.jupyter.widget-view+json": {
       "model_id": "c2d229ab83924ef6ac88b60b9b3fd2dd",
       "version_major": 2,
       "version_minor": 0
      },
      "text/plain": [
       "FigureCanvasNbAgg()"
      ]
     },
     "metadata": {},
     "output_type": "display_data"
    }
   ],
   "source": [
    "points = 50\n",
    "y1_vals=np.linspace(-20,20,points)\n",
    "y2_vals=np.linspace(-20,20,points)\n",
    "\n",
    "y1_grid,y2_grid=np.meshgrid(y1_vals,y2_vals)\n",
    "\n",
    "y1=tf.constant(y1_grid.reshape(-1,1))\n",
    "y2=tf.constant(y2_grid.reshape(-1,1))\n",
    "\n",
    "y1_t=tf.nn.tanh(y1)\n",
    "y2_t=tf.nn.tanh(y2)\n",
    "\n",
    "y1_t_1=tf.nn.tanh(0.5*y1)\n",
    "y2_t_1=tf.nn.tanh(0.5*y2)\n",
    "\n",
    "z = tf.nn.relu(y1_t+10) * tf.nn.relu(y2_t+10)  \n",
    "# z = y1_t * y2_t \n",
    "\n",
    "# z=tf.nn.softplus(y)\n",
    "dz_dy1 = tf.gradients(z,y1)[0]\n",
    "d2z_dy1dy2 = tf.gradients(dz_dy1,y2)[0]\n",
    "d2z_d2y1 = tf.gradients(dz_dy1,y1)[0]\n",
    "\n",
    "with tf.Session() as sess:\n",
    "    y1_t_vals,y2_t_vals,z_vals,dz_dy1_vals,d2z_dy1dy2_vals,d2z_d2y1_vals = sess.run([y1_t,y2_t,z,dz_dy1,d2z_dy1dy2,d2z_d2y1])\n",
    "\n",
    "fig = plt.figure()\n",
    "ax = fig.add_subplot(111, projection='3d')\n",
    "ax.plot_wireframe(y1_grid, y2_grid,z_vals.reshape(points,points))\n",
    "plt.title(\"z\")\n",
    "plt.xlabel(\"y1\")\n",
    "plt.ylabel(\"y2\")\n",
    "\n",
    "fig = plt.figure()\n",
    "ax = fig.add_subplot(111, projection='3d')\n",
    "ax.plot_wireframe(y1_grid, y2_grid,dz_dy1_vals.reshape(points,points))\n",
    "plt.title(\"dz_dy1\")\n",
    "plt.xlabel(\"y1\")\n",
    "plt.ylabel(\"y2\")\n",
    "\n",
    "fig = plt.figure()\n",
    "ax = fig.add_subplot(111, projection='3d')\n",
    "ax.plot_wireframe(y1_grid, y2_grid,d2z_dy1dy2_vals.reshape(points,points))\n",
    "plt.title(\"d2z_dy1dy2\")\n",
    "plt.xlabel(\"y1\")\n",
    "plt.ylabel(\"y2\")\n",
    "\n",
    "fig = plt.figure()\n",
    "ax = fig.add_subplot(111, projection='3d')\n",
    "ax.plot_wireframe(y1_grid, y2_grid,d2z_d2y1_vals.reshape(points,points))\n",
    "plt.title(\"d2z_d2y1\")\n",
    "plt.xlabel(\"y1\")\n",
    "plt.ylabel(\"y2\")\n",
    "\n",
    "\n",
    "plt.show();"
   ]
  },
  {
   "cell_type": "code",
   "execution_count": null,
   "metadata": {},
   "outputs": [],
   "source": []
  }
 ],
 "metadata": {
  "kernelspec": {
   "display_name": "Python 3",
   "language": "python",
   "name": "python3"
  },
  "language_info": {
   "codemirror_mode": {
    "name": "ipython",
    "version": 3
   },
   "file_extension": ".py",
   "mimetype": "text/x-python",
   "name": "python",
   "nbconvert_exporter": "python",
   "pygments_lexer": "ipython3",
   "version": "3.5.2"
  }
 },
 "nbformat": 4,
 "nbformat_minor": 2
}
