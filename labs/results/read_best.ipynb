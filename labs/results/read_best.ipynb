{
 "cells": [
  {
   "cell_type": "code",
   "execution_count": 2,
   "metadata": {},
   "outputs": [],
   "source": [
    "import os\n",
    "import pickle"
   ]
  },
  {
   "cell_type": "code",
   "execution_count": 95,
   "metadata": {},
   "outputs": [
    {
     "data": {
      "text/plain": [
       "{'learning_rate': 0.0021930881089764196,\n",
       " 'tensorboard_folder': 'tensorboard',\n",
       " 'batch_size': 200,\n",
       " 'hidden_units': 69,\n",
       " 'k_mix': 7,\n",
       " 'x_size': 17,\n",
       " 'tf_random_seed': 2142694696,\n",
       " 'y_size': 8,\n",
       " 'components_distribution': 'normal'}"
      ]
     },
     "execution_count": 95,
     "metadata": {},
     "output_type": "execute_result"
    }
   ],
   "source": [
    "with open(\"/home/pawel/PycharmProjects/NeuralLikelihoods/labs/results/fx_all_predicted/best_model_rnade_normal.pkl\", 'rb') as f:\n",
    "    best_model = pickle.load(f)[\"best_model_params\"]\n",
    "best_model"
   ]
  }
 ],
 "metadata": {
  "kernelspec": {
   "display_name": "Python [conda env:tensorflow_1_13] *",
   "language": "python",
   "name": "conda-env-tensorflow_1_13-py"
  },
  "language_info": {
   "codemirror_mode": {
    "name": "ipython",
    "version": 3
   },
   "file_extension": ".py",
   "mimetype": "text/x-python",
   "name": "python",
   "nbconvert_exporter": "python",
   "pygments_lexer": "ipython3",
   "version": "3.7.5"
  }
 },
 "nbformat": 4,
 "nbformat_minor": 4
}
